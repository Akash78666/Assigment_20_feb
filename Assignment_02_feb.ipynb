{
 "cells": [
  {
   "cell_type": "code",
   "execution_count": 1,
   "id": "f07894bc-ca14-469b-bbd8-e1ee6f7c0ad9",
   "metadata": {},
   "outputs": [
    {
     "name": "stdout",
     "output_type": "stream",
     "text": [
      "1\n",
      "2\n",
      "3\n",
      "4\n",
      "5\n"
     ]
    }
   ],
   "source": [
    "# The while loop we can executed a set of statement as long as a condition is true;\n",
    "i=1\n",
    "while i<6:\n",
    "    print(i)\n",
    "    i+=1"
   ]
  },
  {
   "cell_type": "code",
   "execution_count": 1,
   "id": "34d08775-12fb-46b7-be18-97576263539d",
   "metadata": {},
   "outputs": [
    {
     "name": "stdout",
     "output_type": "stream",
     "text": [
      "2\n",
      "3\n",
      "4\n",
      "5\n",
      "6\n"
     ]
    },
    {
     "data": {
      "text/plain": [
       "[2, 3, 4, 5, 6]"
      ]
     },
     "execution_count": 1,
     "metadata": {},
     "output_type": "execute_result"
    }
   ],
   "source": [
    "# A for loop is used for iterating over a sequence (that is either a list, a tuple, a dictionary , a set, or a string.)\n",
    "l=[1,2,3,4,5]\n",
    "l2=[]\n",
    "for i in l:\n",
    "    print(i+1)\n",
    "    l2.append(i+1)\n",
    "l2"
   ]
  },
  {
   "cell_type": "code",
   "execution_count": 2,
   "id": "7992e334-3786-4877-b65a-c390f8b49a8d",
   "metadata": {},
   "outputs": [
    {
     "name": "stdout",
     "output_type": "stream",
     "text": [
      "sum is 55\n"
     ]
    }
   ],
   "source": [
    "\n",
    "sum=0\n",
    "for i in range(1,11):\n",
    "    sum+=i\n",
    "print(\"sum is\",sum)\n"
   ]
  },
  {
   "cell_type": "code",
   "execution_count": null,
   "id": "37e8c478-345d-4679-b6aa-ca63f48f5991",
   "metadata": {},
   "outputs": [],
   "source": [
    "n=int(input(\"enter the number\\n\"))\n",
    "sum=0\n",
    "while(n>0):\n",
    "    sum+=n\n",
    "    n-=1\n",
    "print(\"the result is\",sum)\n"
   ]
  },
  {
   "cell_type": "code",
   "execution_count": null,
   "id": "26ee947a-801a-42d1-8b6c-dde32de7644b",
   "metadata": {},
   "outputs": [],
   "source": [
    "n=int(input())\n",
    "bill=0\n",
    "if n>300:\n",
    "    x=n-300#calculate units more than 300\n",
    "    bill=bill+x*20\n",
    "    bill=bill+100*10+100*6+100*4.5\n",
    "    print(bill)\n",
    "elif n>200:\n",
    "    x=n-200\n",
    "    bill=bill+x*10\n",
    "    bill=bill+100*6+100*4.5\n",
    "    print(bill)\n",
    "elif n>100:\n",
    "    x=n-100\n",
    "    bill=bill+x*6\n",
    "    bill=bill+100*4.5\n",
    "    print(bill)\n",
    "else:\n",
    "    bill=bill+n*4.5\n",
    "    print(bill)"
   ]
  },
  {
   "cell_type": "code",
   "execution_count": null,
   "id": "557f9a24-36e8-4d32-969b-159e46f77988",
   "metadata": {},
   "outputs": [],
   "source": []
  }
 ],
 "metadata": {
  "kernelspec": {
   "display_name": "Python 3 (ipykernel)",
   "language": "python",
   "name": "python3"
  },
  "language_info": {
   "codemirror_mode": {
    "name": "ipython",
    "version": 3
   },
   "file_extension": ".py",
   "mimetype": "text/x-python",
   "name": "python",
   "nbconvert_exporter": "python",
   "pygments_lexer": "ipython3",
   "version": "3.10.8"
  }
 },
 "nbformat": 4,
 "nbformat_minor": 5
}
